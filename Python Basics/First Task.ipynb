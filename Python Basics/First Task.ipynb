{
 "cells": [
  {
   "cell_type": "code",
   "execution_count": 4,
   "metadata": {},
   "outputs": [
    {
     "name": "stdout",
     "output_type": "stream",
     "text": [
      "3.11.0 (main, Oct 24 2022, 18:26:48) [MSC v.1933 64 bit (AMD64)]\n"
     ]
    }
   ],
   "source": [
    "import sys\n",
    "print(sys.version)\n",
    "\n"
   ]
  },
  {
   "attachments": {},
   "cell_type": "markdown",
   "metadata": {},
   "source": [
    "# Integers and Floats"
   ]
  },
  {
   "cell_type": "code",
   "execution_count": 23,
   "metadata": {},
   "outputs": [
    {
     "name": "stdout",
     "output_type": "stream",
     "text": [
      "<class 'int'>\n",
      "<class 'float'>\n"
     ]
    }
   ],
   "source": [
    "x = 5\n",
    "y = 2.5\n",
    "\n",
    "print(type(x))\n",
    "print(type(y))\n"
   ]
  },
  {
   "cell_type": "code",
   "execution_count": 24,
   "metadata": {},
   "outputs": [
    {
     "name": "stdout",
     "output_type": "stream",
     "text": [
      "10 <class 'int'>\n",
      "0 <class 'int'>\n",
      "25 <class 'int'>\n",
      "3125 <class 'int'>\n",
      "---------------------------------\n",
      "7.5 <class 'float'>\n",
      "12.5 <class 'float'>\n",
      "55.90169943749474 <class 'float'>\n",
      "1.760040895257892e+22 <class 'float'>\n",
      "1.0 <class 'float'>\n",
      "2.5 <class 'float'>\n"
     ]
    },
    {
     "data": {
      "text/plain": [
       "17600408952578919890944"
      ]
     },
     "execution_count": 24,
     "metadata": {},
     "output_type": "execute_result"
    }
   ],
   "source": [
    "# int, int operations\n",
    "z = x + x\n",
    "print(z, type(z))\n",
    "z = x - x\n",
    "print(z, type(z))\n",
    "z = x * x\n",
    "print(z, type(z))\n",
    "z = x ** x\n",
    "print(z, type(z))\n",
    "print(\"---------------------------------\")\n",
    "\n",
    "# int, float operations\n",
    "z = x + y\n",
    "print(z, type(z))\n",
    "z = x * y\n",
    "print(z, type(z))\n",
    "z = x ** y\n",
    "print(z, type(z))\n",
    "z = y ** z\n",
    "print(z, type(z))\n",
    "z = x /x\n",
    "print(z, type(z))\n",
    "z = y / z\n",
    "print(z, type(z))\n",
    "int(1.760040895257892e+22)"
   ]
  },
  {
   "cell_type": "code",
   "execution_count": 25,
   "metadata": {},
   "outputs": [
    {
     "name": "stdout",
     "output_type": "stream",
     "text": [
      "12 <class 'float'>\n",
      "13 <class 'float'>\n"
     ]
    }
   ],
   "source": [
    "a=12.6\n",
    "print(int(a),type(a))\n",
    "print(round(a),type(a))"
   ]
  },
  {
   "cell_type": "code",
   "execution_count": 26,
   "metadata": {},
   "outputs": [
    {
     "name": "stdout",
     "output_type": "stream",
     "text": [
      "12.0 <class 'int'>\n"
     ]
    }
   ],
   "source": [
    "b= 12\n",
    "print(float(b),type(b))"
   ]
  },
  {
   "attachments": {},
   "cell_type": "markdown",
   "metadata": {},
   "source": [
    "# Strings"
   ]
  },
  {
   "cell_type": "code",
   "execution_count": 1,
   "metadata": {},
   "outputs": [
    {
     "name": "stdout",
     "output_type": "stream",
     "text": [
      "Hello <class 'str'>\n"
     ]
    }
   ],
   "source": [
    "a = \"Hello\"\n",
    "print(a, type(a))"
   ]
  },
  {
   "cell_type": "code",
   "execution_count": 49,
   "metadata": {},
   "outputs": [
    {
     "name": "stdout",
     "output_type": "stream",
     "text": [
      "everyone <class 'str'>\n",
      "fghkza everyoneeveryone <class 'str'>\n",
      "fghkza everyone everyone <class 'str'>\n"
     ]
    }
   ],
   "source": [
    "b= \"everyone\"\n",
    "print(b, type(b))\n",
    "c= a+b\n",
    "print(c, type(c))\n",
    "a= a +\" \"+ b\n",
    "print(a, type(a))"
   ]
  },
  {
   "cell_type": "code",
   "execution_count": 48,
   "metadata": {},
   "outputs": [
    {
     "data": {
      "text/plain": [
       "['fghkza', 'everyone']"
      ]
     },
     "execution_count": 48,
     "metadata": {},
     "output_type": "execute_result"
    }
   ],
   "source": [
    "a.split(\" \")"
   ]
  },
  {
   "cell_type": "code",
   "execution_count": 34,
   "metadata": {},
   "outputs": [
    {
     "data": {
      "text/plain": [
       "'afghkz'"
      ]
     },
     "execution_count": 34,
     "metadata": {},
     "output_type": "execute_result"
    }
   ],
   "source": [
    "a = \"fghkza\"\n",
    "''.join(sorted(a))"
   ]
  },
  {
   "cell_type": "code",
   "execution_count": 44,
   "metadata": {},
   "outputs": [
    {
     "ename": "AttributeError",
     "evalue": "'str' object has no attribute 'sorted'",
     "output_type": "error",
     "traceback": [
      "\u001b[1;31m---------------------------------------------------------------------------\u001b[0m",
      "\u001b[1;31mAttributeError\u001b[0m                            Traceback (most recent call last)",
      "Cell \u001b[1;32mIn[44], line 2\u001b[0m\n\u001b[0;32m      1\u001b[0m a \u001b[39m=\u001b[39m \u001b[39m\"\u001b[39m\u001b[39mfghkza\u001b[39m\u001b[39m\"\u001b[39m\n\u001b[1;32m----> 2\u001b[0m b\u001b[39m=\u001b[39m \u001b[39mlist\u001b[39m(a\u001b[39m.\u001b[39;49msorted())\n\u001b[0;32m      3\u001b[0m \u001b[39mprint\u001b[39m(b)\n\u001b[0;32m      4\u001b[0m \u001b[39mfor\u001b[39;00m i \u001b[39min\u001b[39;00m b:\n",
      "\u001b[1;31mAttributeError\u001b[0m: 'str' object has no attribute 'sorted'"
     ]
    }
   ],
   "source": [
    "a = \"fghkza\"\n",
    "b= list(a.sorted())\n",
    "print(b)\n",
    "for i in b:\n",
    "    print(i)"
   ]
  },
  {
   "cell_type": "code",
   "execution_count": null,
   "metadata": {},
   "outputs": [],
   "source": []
  },
  {
   "cell_type": "code",
   "execution_count": 9,
   "metadata": {},
   "outputs": [
    {
     "name": "stdout",
     "output_type": "stream",
     "text": [
      "First character of String is: H\n",
      "Last character of String is:  e\n",
      "String length is:  14\n"
     ]
    }
   ],
   "source": [
    "a = \"Hello Everyone\"\n",
    "print(\"First character of String is:\", a[0])\n",
    "print(\"Last character of String is: \", a[-1])\n",
    "print(\"String length is: \", len(a))"
   ]
  },
  {
   "cell_type": "code",
   "execution_count": 5,
   "metadata": {},
   "outputs": [
    {
     "name": "stdout",
     "output_type": "stream",
     "text": [
      "Slicing characters: everyone\n"
     ]
    }
   ],
   "source": [
    "print(\"Slicing characters:\", a[6:])\n"
   ]
  },
  {
   "cell_type": "code",
   "execution_count": 11,
   "metadata": {},
   "outputs": [
    {
     "name": "stdout",
     "output_type": "stream",
     "text": [
      "HELLO EVERYONE\n",
      "hello everyone\n"
     ]
    }
   ],
   "source": [
    "print(a.upper()) \n",
    "print(a.lower())"
   ]
  },
  {
   "cell_type": "code",
   "execution_count": 12,
   "metadata": {},
   "outputs": [
    {
     "name": "stdout",
     "output_type": "stream",
     "text": [
      "Jello Everyone\n"
     ]
    }
   ],
   "source": [
    "print(a.replace(\"H\", \"J\"))"
   ]
  },
  {
   "cell_type": "code",
   "execution_count": 13,
   "metadata": {},
   "outputs": [
    {
     "name": "stdout",
     "output_type": "stream",
     "text": [
      "['Hello', 'Everyone']\n"
     ]
    }
   ],
   "source": [
    "print(a.split(\" \"))"
   ]
  },
  {
   "cell_type": "code",
   "execution_count": 15,
   "metadata": {},
   "outputs": [
    {
     "data": {
      "text/plain": [
       "'dkdm'"
      ]
     },
     "execution_count": 15,
     "metadata": {},
     "output_type": "execute_result"
    }
   ],
   "source": [
    "a =\"   dkdm\"\n",
    "a.strip()"
   ]
  },
  {
   "attachments": {},
   "cell_type": "markdown",
   "metadata": {},
   "source": [
    "# If-Else statements"
   ]
  },
  {
   "cell_type": "code",
   "execution_count": 6,
   "metadata": {},
   "outputs": [
    {
     "name": "stdout",
     "output_type": "stream",
     "text": [
      "You are an adult.\n"
     ]
    }
   ],
   "source": [
    "age = 18\n",
    "if age >= 18:\n",
    "    print(\"You are an adult.\")\n",
    "else:\n",
    "    print(\"You are a kid.\")"
   ]
  },
  {
   "cell_type": "code",
   "execution_count": 7,
   "metadata": {},
   "outputs": [
    {
     "name": "stdout",
     "output_type": "stream",
     "text": [
      "Your grade is B\n"
     ]
    }
   ],
   "source": [
    "# else if-else\n",
    "score = 85\n",
    "if score >= 90:\n",
    "    grade = 'A'\n",
    "elif score >= 80:\n",
    "    grade = 'B'\n",
    "else:\n",
    "    grade = 'C'\n",
    "print(f\"Your grade is {grade}\")"
   ]
  },
  {
   "cell_type": "code",
   "execution_count": 10,
   "metadata": {},
   "outputs": [],
   "source": [
    "# Nested If-Else \n",
    "age = 20\n",
    "is_student = True\n",
    "\n",
    "if age >= 18:\n",
    "    if not is_student:\n",
    "        print(\"You are an adult and a student.\")\n",
    "else:\n",
    "    if is_student:\n",
    "        print(\"You are a kid and a student.\")\n",
    "    else:\n",
    "        print(\"You are a kid and not a student.\")\n"
   ]
  },
  {
   "attachments": {},
   "cell_type": "markdown",
   "metadata": {},
   "source": [
    "# Loops"
   ]
  },
  {
   "attachments": {},
   "cell_type": "markdown",
   "metadata": {},
   "source": [
    "If statements"
   ]
  },
  {
   "cell_type": "code",
   "execution_count": 28,
   "metadata": {},
   "outputs": [
    {
     "name": "stdout",
     "output_type": "stream",
     "text": [
      "I like apple\n",
      "I like banana\n",
      "I like cherry\n",
      "I like date\n"
     ]
    }
   ],
   "source": [
    "fruits = [\"apple\", \"banana\", \"cherry\", \"date\"]\n",
    "\n",
    "for fruit in fruits:\n",
    "    print(f\"I like {fruit}\")"
   ]
  },
  {
   "cell_type": "code",
   "execution_count": 29,
   "metadata": {},
   "outputs": [
    {
     "name": "stdout",
     "output_type": "stream",
     "text": [
      "0\n",
      "1\n",
      "2\n"
     ]
    }
   ],
   "source": [
    "# For loop with range()\n",
    "for i in range(3):  \n",
    "    print(i)"
   ]
  },
  {
   "cell_type": "code",
   "execution_count": 30,
   "metadata": {},
   "outputs": [
    {
     "name": "stdout",
     "output_type": "stream",
     "text": [
      "Fruit 0: apple\n",
      "Fruit 1: banana\n",
      "Fruit 2: cherry\n",
      "Fruit 3: date\n"
     ]
    }
   ],
   "source": [
    "# Using enumerate to get both index and value\n",
    "fruits = [\"apple\", \"banana\", \"cherry\", \"date\"]\n",
    "for index, fruit in enumerate(fruits):\n",
    "    print(f\"Fruit {index}: {fruit}\")"
   ]
  },
  {
   "cell_type": "code",
   "execution_count": 54,
   "metadata": {},
   "outputs": [
    {
     "name": "stdout",
     "output_type": "stream",
     "text": [
      "1\t\n",
      "2\t4\t\n",
      "3\t6\t9\t\n"
     ]
    }
   ],
   "source": [
    "# Nested for loop to print multiplication table\n",
    "for i in range(1, 4):\n",
    "    print(i)  \n",
    "    for j in range(i):  \n",
    "        print(i * j, end=\"\\t\")\n",
    "    print()  "
   ]
  },
  {
   "cell_type": "code",
   "execution_count": 78,
   "metadata": {},
   "outputs": [
    {
     "name": "stdout",
     "output_type": "stream",
     "text": [
      "Odd number: 1\n",
      "Odd number: 3\n",
      "Odd number: 5\n",
      "Odd number: 7\n",
      "Odd number: 9\n"
     ]
    }
   ],
   "source": [
    "# Continue\n",
    "for i in range(10):\n",
    "    if i % 2 == 0:\n",
    "        continue  # Skip even numbers\n",
    "    print(f\"Odd number: {i}\")\n"
   ]
  },
  {
   "attachments": {},
   "cell_type": "markdown",
   "metadata": {},
   "source": [
    "While loop"
   ]
  },
  {
   "cell_type": "code",
   "execution_count": 77,
   "metadata": {},
   "outputs": [
    {
     "name": "stdout",
     "output_type": "stream",
     "text": [
      "Count is 0\n",
      "Count is 1\n",
      "Count is 2\n",
      "Count is 3\n",
      "Count is 4\n"
     ]
    }
   ],
   "source": [
    "# Using break \n",
    "count = 0\n",
    "while True:\n",
    "    print(f\"Count is {count}\")\n",
    "    count += 1\n",
    "    if count == 5:\n",
    "        break #\"Breaking the loop at count 5\n"
   ]
  },
  {
   "attachments": {},
   "cell_type": "markdown",
   "metadata": {},
   "source": [
    "# List"
   ]
  },
  {
   "cell_type": "code",
   "execution_count": 11,
   "metadata": {},
   "outputs": [
    {
     "name": "stdout",
     "output_type": "stream",
     "text": [
      "apple\n",
      "date\n",
      "4\n",
      "<class 'list'>\n"
     ]
    }
   ],
   "source": [
    "\n",
    "fruits = [\"apple\", \"banana\", \"cherry\", \"date\"]\n",
    "\n",
    "print(fruits[0])\n",
    "print(fruits[-1])  \n",
    "print(len(fruits))\n",
    "print(type(fruits))\n"
   ]
  },
  {
   "cell_type": "code",
   "execution_count": 12,
   "metadata": {},
   "outputs": [
    {
     "name": "stdout",
     "output_type": "stream",
     "text": [
      "First 2: ['apple', 'banana']\n",
      "Last 2: ['cherry', 'date']\n"
     ]
    }
   ],
   "source": [
    "# Slicing a list\n",
    "print(f\"First 2: {fruits[:2]}\")\n",
    "print(f\"Last 2: {fruits[-2:]}\")"
   ]
  },
  {
   "cell_type": "code",
   "execution_count": 13,
   "metadata": {},
   "outputs": [
    {
     "name": "stdout",
     "output_type": "stream",
     "text": [
      "['mango', 'banana', 'cherry', 'date', 'apple']\n"
     ]
    }
   ],
   "source": [
    "fruits[0] = \"mango\"\n",
    "# Adding an element to the end\n",
    "fruits.append(\"apple\")\n",
    "print(fruits)\n"
   ]
  },
  {
   "cell_type": "code",
   "execution_count": 14,
   "metadata": {},
   "outputs": [
    {
     "name": "stdout",
     "output_type": "stream",
     "text": [
      "['mango', 'blueberry', 'banana', 'cherry', 'date', 'apple']\n",
      "['mango', 'blueberry', 'cherry', 'date', 'apple']\n"
     ]
    }
   ],
   "source": [
    "# Inserting \n",
    "fruits.insert(1, \"blueberry\")  # Insert at index 1\n",
    "print(fruits)\n",
    "# Removing an element by value\n",
    "fruits.remove(\"banana\")\n",
    "print(fruits)"
   ]
  },
  {
   "cell_type": "code",
   "execution_count": 15,
   "metadata": {},
   "outputs": [
    {
     "name": "stdout",
     "output_type": "stream",
     "text": [
      "cherry\n",
      "['mango', 'blueberry', 'date', 'apple']\n",
      "['mango', 'blueberry', 'date', 'apple', 'carrot', 'potato']\n"
     ]
    }
   ],
   "source": [
    "# Removing an element by index\n",
    "popped_fruit = fruits.pop(2) \n",
    "print(popped_fruit)\n",
    "print(fruits)\n",
    "\n",
    "# Concatenating two lists\n",
    "vegetables = [\"carrot\", \"potato\"]\n",
    "food = fruits + vegetables\n",
    "print(food)"
   ]
  },
  {
   "cell_type": "code",
   "execution_count": 16,
   "metadata": {},
   "outputs": [
    {
     "name": "stdout",
     "output_type": "stream",
     "text": [
      "['apple', 'blueberry', 'date', 'mango']\n",
      "['mango', 'date', 'blueberry', 'apple']\n"
     ]
    }
   ],
   "source": [
    "#Sort the list alphabetically\n",
    "fruits.sort()\n",
    "print(fruits)\n",
    "fruits.sort(reverse = True)\n",
    "print(fruits)"
   ]
  },
  {
   "attachments": {},
   "cell_type": "markdown",
   "metadata": {},
   "source": [
    "# Sets"
   ]
  },
  {
   "cell_type": "code",
   "execution_count": 17,
   "metadata": {},
   "outputs": [
    {
     "name": "stdout",
     "output_type": "stream",
     "text": [
      "{'cherry', 'apple', 'banana'}\n",
      "3\n",
      "<class 'set'>\n"
     ]
    }
   ],
   "source": [
    "fruits = {\"apple\", \"banana\", \"cherry\", \"apple\"}\n",
    "print(fruits)\n",
    "print(len(fruits))\n",
    "print(type(fruits))"
   ]
  },
  {
   "cell_type": "code",
   "execution_count": 18,
   "metadata": {},
   "outputs": [
    {
     "name": "stdout",
     "output_type": "stream",
     "text": [
      "cherry\n",
      "apple\n",
      "banana\n",
      "True\n"
     ]
    }
   ],
   "source": [
    "# You cannot access items in a set by referring to an index or a key.\n",
    "for x in fruits:\n",
    "  print(x)\n",
    "print(\"banana\" in fruits)"
   ]
  },
  {
   "cell_type": "code",
   "execution_count": 19,
   "metadata": {},
   "outputs": [
    {
     "name": "stdout",
     "output_type": "stream",
     "text": [
      "{'cherry', 'apple', 'orange', 'banana'}\n"
     ]
    }
   ],
   "source": [
    "fruits.add(\"orange\")\n",
    "print(fruits)"
   ]
  },
  {
   "cell_type": "code",
   "execution_count": 20,
   "metadata": {},
   "outputs": [
    {
     "name": "stdout",
     "output_type": "stream",
     "text": [
      "{'carrot', 'apple', 'potato', 'cherry', 'orange', 'banana'}\n",
      "{'apple', 'potato', 'cherry', 'orange', 'banana'}\n"
     ]
    }
   ],
   "source": [
    "vegetables = {\"carrot\", \"potato\"}\n",
    "fruits.update(vegetables)\n",
    "print(fruits)\n",
    "fruits.remove(\"carrot\")\n",
    "print(fruits)"
   ]
  },
  {
   "cell_type": "code",
   "execution_count": 129,
   "metadata": {},
   "outputs": [
    {
     "name": "stdout",
     "output_type": "stream",
     "text": [
      "banana\n",
      "{'potato', 'cherry', 'apple', 'orange'}\n"
     ]
    }
   ],
   "source": [
    "x = fruits.pop()\n",
    "print(x)\n",
    "print(fruits)"
   ]
  },
  {
   "cell_type": "code",
   "execution_count": 132,
   "metadata": {},
   "outputs": [
    {
     "name": "stdout",
     "output_type": "stream",
     "text": [
      "{'b', 1, 2, 3, 'Elena', 'cherry', 'a', 'bananas', 'c', 'apple', 'John'}\n"
     ]
    }
   ],
   "source": [
    "# Join multiple sets with the union() method\n",
    "set1 = {\"a\", \"b\", \"c\"}\n",
    "set2 = {1, 2, 3}\n",
    "set3 = {\"John\", \"Elena\"}\n",
    "set4 = {\"apple\", \"bananas\", \"cherry\"}\n",
    "\n",
    "myset = set1.union(set2, set3, set4)\n",
    "print(myset)"
   ]
  },
  {
   "attachments": {},
   "cell_type": "markdown",
   "metadata": {},
   "source": [
    "# Tuples"
   ]
  },
  {
   "cell_type": "code",
   "execution_count": 141,
   "metadata": {},
   "outputs": [
    {
     "name": "stdout",
     "output_type": "stream",
     "text": [
      "('apple', 'banana', 'cherry', 'apple', 'cherry')\n",
      "5\n",
      "banana\n",
      "cherry\n",
      "('banana', 'cherry')\n"
     ]
    }
   ],
   "source": [
    "fruits = (\"apple\", \"banana\", \"cherry\", \"apple\", \"cherry\")\n",
    "print(fruits)\n",
    "print(len(fruits))\n",
    "print(fruits[1])\n",
    "print(fruits[-1])\n",
    "print(fruits[1:3])"
   ]
  },
  {
   "cell_type": "code",
   "execution_count": 142,
   "metadata": {},
   "outputs": [
    {
     "name": "stdout",
     "output_type": "stream",
     "text": [
      "<class 'tuple'>\n",
      "<class 'str'>\n"
     ]
    }
   ],
   "source": [
    "fruit = (\"apple\",)\n",
    "print(type(fruit))\n",
    "\n",
    "#NOT a tuple\n",
    "fruit = (\"apple\")\n",
    "print(type(fruit))"
   ]
  },
  {
   "cell_type": "code",
   "execution_count": 143,
   "metadata": {},
   "outputs": [
    {
     "name": "stdout",
     "output_type": "stream",
     "text": [
      "('apple', 'banana', 'cherry', 'apple', 'cherry', 'mango')\n"
     ]
    }
   ],
   "source": [
    "\n",
    "y = list(fruits)\n",
    "y.append(\"mango\")\n",
    "fruits = tuple(y)\n",
    "print(fruits)"
   ]
  },
  {
   "cell_type": "code",
   "execution_count": 144,
   "metadata": {},
   "outputs": [
    {
     "name": "stdout",
     "output_type": "stream",
     "text": [
      "('apple', 'banana', 'cherry', 'orange')\n"
     ]
    }
   ],
   "source": [
    "fruits = (\"apple\", \"banana\", \"cherry\")\n",
    "y = (\"orange\",)\n",
    "fruits += y\n",
    "\n",
    "print(fruits)"
   ]
  },
  {
   "cell_type": "code",
   "execution_count": 146,
   "metadata": {},
   "outputs": [
    {
     "name": "stdout",
     "output_type": "stream",
     "text": [
      "('banana', 'cherry')\n"
     ]
    }
   ],
   "source": [
    "# Convert the tuple into a list, remove \"apple\", and convert it back into a tuple\n",
    "fruits = (\"apple\", \"banana\", \"cherry\")\n",
    "y = list(fruits)\n",
    "y.remove(\"apple\")\n",
    "fruits = tuple(y)\n",
    "print(fruits)"
   ]
  },
  {
   "cell_type": "code",
   "execution_count": 147,
   "metadata": {},
   "outputs": [
    {
     "name": "stdout",
     "output_type": "stream",
     "text": [
      "('a', 'b', 'c', 1, 2, 3)\n"
     ]
    }
   ],
   "source": [
    "# Join two tuples:\n",
    "a = (\"a\", \"b\" , \"c\")\n",
    "b = (1, 2, 3)\n",
    "\n",
    "c = a + b\n",
    "print(c)"
   ]
  },
  {
   "attachments": {},
   "cell_type": "markdown",
   "metadata": {},
   "source": [
    "# Functions"
   ]
  },
  {
   "cell_type": "code",
   "execution_count": 151,
   "metadata": {},
   "outputs": [
    {
     "name": "stdout",
     "output_type": "stream",
     "text": [
      "Menna is 23 years old and lives in Cairo.\n"
     ]
    }
   ],
   "source": [
    "def person(name, age, city):\n",
    "    print(f\"{name} is {age} years old and lives in {city}.\")\n",
    "    \n",
    "person(\"Menna\", 23, \"Cairo\")"
   ]
  },
  {
   "cell_type": "code",
   "execution_count": 152,
   "metadata": {},
   "outputs": [
    {
     "name": "stdout",
     "output_type": "stream",
     "text": [
      "Menna is 30 years old and lives in Unknown.\n"
     ]
    }
   ],
   "source": [
    "# A function with default parameters\n",
    "def person(name, age=30, city=\"Unknown\"):\n",
    "    print(f\"{name} is {age} years old and lives in {city}.\")\n",
    "\n",
    "# Call the function without passing all arguments\n",
    "person(\"Menna\")  # age and city take default values\n"
   ]
  },
  {
   "cell_type": "markdown",
   "metadata": {},
   "source": []
  },
  {
   "cell_type": "code",
   "execution_count": 154,
   "metadata": {},
   "outputs": [
    {
     "name": "stdout",
     "output_type": "stream",
     "text": [
      "Name: Menna, Age: 23, City: Cairo\n"
     ]
    }
   ],
   "source": [
    "# A function that returns multiple values\n",
    "def get_user_info():\n",
    "    name = \"Menna\"\n",
    "    age = 23\n",
    "    city = \"Cairo\"\n",
    "    return name, age, city\n",
    "\n",
    "\n",
    "name, age, city = get_user_info()\n",
    "print(f\"Name: {name}, Age: {age}, City: {city}\")"
   ]
  },
  {
   "cell_type": "code",
   "execution_count": 153,
   "metadata": {},
   "outputs": [
    {
     "name": "stdout",
     "output_type": "stream",
     "text": [
      "6\n",
      "100\n"
     ]
    }
   ],
   "source": [
    "# A function that takes a variable number of arguments (*args)\n",
    "def add_all_numbers(*numbers):\n",
    "    return sum(numbers)\n",
    "\n",
    "print(add_all_numbers(1, 2, 3)) \n",
    "print(add_all_numbers(10, 20, 30, 40)) "
   ]
  },
  {
   "cell_type": "code",
   "execution_count": 3,
   "metadata": {},
   "outputs": [
    {
     "data": {
      "text/plain": [
       "(4+5j)"
      ]
     },
     "execution_count": 3,
     "metadata": {},
     "output_type": "execute_result"
    }
   ],
   "source": [
    "c = 2 + 3j \n",
    "d = 2 + 2j\n",
    "z = c+d \n",
    "z"
   ]
  },
  {
   "attachments": {},
   "cell_type": "markdown",
   "metadata": {},
   "source": [
    "Creating a palindrome"
   ]
  },
  {
   "cell_type": "code",
   "execution_count": 65,
   "metadata": {},
   "outputs": [
    {
     "name": "stdout",
     "output_type": "stream",
     "text": [
      "1 1 \n",
      "\n",
      "1 2 2 1 \n",
      "\n",
      "1 2 3 3 2 1 \n",
      "\n",
      "1 2 3 4 4 3 2 1 \n",
      "\n"
     ]
    }
   ],
   "source": [
    "for i in range(1,5):\n",
    "    for j in range(1,i+1):\n",
    "        print(j, end = \" \")\n",
    "        x=j\n",
    "\n",
    "    while x!=0:\n",
    "        print(x, end = \" \")\n",
    "        x-=1\n",
    "    print (\"\\n\")"
   ]
  },
  {
   "cell_type": "code",
   "execution_count": 64,
   "metadata": {},
   "outputs": [
    {
     "name": "stdout",
     "output_type": "stream",
     "text": [
      "1 \n",
      "\n",
      "1 2 1 \n",
      "\n",
      "1 2 3 2 1 \n",
      "\n",
      "1 2 3 4 3 2 1 \n",
      "\n"
     ]
    }
   ],
   "source": [
    "for i in range(1,5):\n",
    "    for j in range(1,i+1):\n",
    "        print(j, end = \" \")\n",
    "        x=j\n",
    "\n",
    "    for j in range(i - 1, 0, -1):\n",
    "        print(j, end=\" \")\n",
    "    print (\"\\n\")"
   ]
  },
  {
   "cell_type": "code",
   "execution_count": null,
   "metadata": {},
   "outputs": [],
   "source": []
  }
 ],
 "metadata": {
  "kernelspec": {
   "display_name": "Python 3",
   "language": "python",
   "name": "python3"
  },
  "language_info": {
   "codemirror_mode": {
    "name": "ipython",
    "version": 3
   },
   "file_extension": ".py",
   "mimetype": "text/x-python",
   "name": "python",
   "nbconvert_exporter": "python",
   "pygments_lexer": "ipython3",
   "version": "3.11.0"
  },
  "orig_nbformat": 4
 },
 "nbformat": 4,
 "nbformat_minor": 2
}
