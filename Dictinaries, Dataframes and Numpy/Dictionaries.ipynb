{
 "cells": [
  {
   "attachments": {},
   "cell_type": "markdown",
   "metadata": {},
   "source": [
    "# Dictionaries"
   ]
  },
  {
   "cell_type": "code",
   "execution_count": 31,
   "metadata": {},
   "outputs": [
    {
     "name": "stdout",
     "output_type": "stream",
     "text": [
      "Name: Menna\n",
      "Age: 23\n",
      "City: Cairo\n"
     ]
    }
   ],
   "source": [
    "# Creating a dictionary with key-value pairs\n",
    "person = {\n",
    "    \"name\": \"Menna\",\n",
    "    \"age\": 23,\n",
    "    \"city\": \"Cairo\"\n",
    "}\n",
    "\n",
    "# Accessing dictionary values by key\n",
    "print(f\"Name: {person['name']}\")\n",
    "print(f\"Age: {person['age']}\")\n",
    "print(f\"City: {person['city']}\")\n"
   ]
  },
  {
   "cell_type": "code",
   "execution_count": 26,
   "metadata": {},
   "outputs": [
    {
     "name": "stdout",
     "output_type": "stream",
     "text": [
      "{'name': 'Mai', 'age': 25, 'city': 'Alex'}\n"
     ]
    }
   ],
   "source": [
    "# Creating an empty dictionary\n",
    "empty_dict = {}\n",
    "\n",
    "# Adding key-value pairs to the empty dictionary\n",
    "empty_dict[\"name\"] = \"Mai\"\n",
    "empty_dict[\"age\"] = 25\n",
    "empty_dict[\"city\"] = \"Alex\"\n",
    "print(empty_dict)"
   ]
  },
  {
   "attachments": {},
   "cell_type": "markdown",
   "metadata": {},
   "source": [
    "**Updating and Modifying Dictionaries**"
   ]
  },
  {
   "cell_type": "code",
   "execution_count": 32,
   "metadata": {},
   "outputs": [
    {
     "data": {
      "text/plain": [
       "{'name': 'Menna', 'age': 23, 'city': 'Cairo', 'job': 'Engineer'}"
      ]
     },
     "execution_count": 32,
     "metadata": {},
     "output_type": "execute_result"
    }
   ],
   "source": [
    "# Adding a new key-value pair\n",
    "person[\"job\"] = \"Engineer\"\n",
    "person"
   ]
  },
  {
   "cell_type": "code",
   "execution_count": 28,
   "metadata": {},
   "outputs": [
    {
     "data": {
      "text/plain": [
       "{'job': 'Engineer', 'age': 31}"
      ]
     },
     "execution_count": 28,
     "metadata": {},
     "output_type": "execute_result"
    }
   ],
   "source": [
    "# Updating an existing value\n",
    "person[\"age\"] = 31\n",
    "person"
   ]
  },
  {
   "cell_type": "code",
   "execution_count": 33,
   "metadata": {},
   "outputs": [
    {
     "name": "stdout",
     "output_type": "stream",
     "text": [
      "{'name': 'Menna', 'age': 23, 'job': 'Engineer'}\n",
      "Removed job: Engineer\n",
      "{'name': 'Menna', 'age': 23}\n"
     ]
    }
   ],
   "source": [
    "# Removing a key-value pair using del\n",
    "del person[\"city\"]\n",
    "print(person)\n",
    "\n",
    "# Using pop() to remove a key and return its value\n",
    "job = person.pop(\"job\")\n",
    "print(f\"Removed job: {job}\")\n",
    "print(person)"
   ]
  },
  {
   "cell_type": "code",
   "execution_count": 34,
   "metadata": {},
   "outputs": [
    {
     "data": {
      "text/plain": [
       "{}"
      ]
     },
     "execution_count": 34,
     "metadata": {},
     "output_type": "execute_result"
    }
   ],
   "source": [
    "# Clear all elements in the dictionary\n",
    "person.clear()\n",
    "person"
   ]
  },
  {
   "attachments": {},
   "cell_type": "markdown",
   "metadata": {},
   "source": [
    "**Dictionary Methods**"
   ]
  },
  {
   "cell_type": "code",
   "execution_count": 35,
   "metadata": {},
   "outputs": [
    {
     "name": "stdout",
     "output_type": "stream",
     "text": [
      "Age: 13\n"
     ]
    }
   ],
   "source": [
    "# Using get() to safely access a value (returns None if the key doesn't exist)\n",
    "age = person.get(\"age\", 13)\n",
    "print(f\"Age: {age}\")"
   ]
  },
  {
   "cell_type": "code",
   "execution_count": 36,
   "metadata": {},
   "outputs": [
    {
     "data": {
      "text/plain": [
       "dict_keys(['name', 'age', 'city'])"
      ]
     },
     "execution_count": 36,
     "metadata": {},
     "output_type": "execute_result"
    }
   ],
   "source": [
    "person = {\n",
    "    \"name\": \"Menna\",\n",
    "    \"age\": 23,\n",
    "    \"city\": \"Cairo\"\n",
    "}\n",
    "\n",
    "person.keys()"
   ]
  },
  {
   "cell_type": "code",
   "execution_count": 37,
   "metadata": {},
   "outputs": [
    {
     "data": {
      "text/plain": [
       "dict_values(['Menna', 23, 'Cairo'])"
      ]
     },
     "execution_count": 37,
     "metadata": {},
     "output_type": "execute_result"
    }
   ],
   "source": [
    "person.values()"
   ]
  },
  {
   "cell_type": "code",
   "execution_count": 38,
   "metadata": {},
   "outputs": [
    {
     "data": {
      "text/plain": [
       "dict_items([('name', 'Menna'), ('age', 23), ('city', 'Cairo')])"
      ]
     },
     "execution_count": 38,
     "metadata": {},
     "output_type": "execute_result"
    }
   ],
   "source": [
    "person.items()"
   ]
  },
  {
   "cell_type": "code",
   "execution_count": 39,
   "metadata": {},
   "outputs": [
    {
     "data": {
      "text/plain": [
       "{'name': 'Menna', 'age': 23, 'city': 'Cairo', 'job': 'vet', 'married': False}"
      ]
     },
     "execution_count": 39,
     "metadata": {},
     "output_type": "execute_result"
    }
   ],
   "source": [
    "# to merge dicts\n",
    "add = {\"job\": \"vet\", \"married\": False}\n",
    "person.update(add)\n",
    "person"
   ]
  },
  {
   "attachments": {},
   "cell_type": "markdown",
   "metadata": {},
   "source": [
    "**Iterating Through Dictionaries**"
   ]
  },
  {
   "cell_type": "code",
   "execution_count": 40,
   "metadata": {},
   "outputs": [
    {
     "name": "stdout",
     "output_type": "stream",
     "text": [
      "Key: name\n",
      "Key: age\n",
      "Key: city\n",
      "Key: job\n",
      "Key: married\n"
     ]
    }
   ],
   "source": [
    "# Iterating through keys\n",
    "for key in person:\n",
    "    print(f\"Key: {key}\")"
   ]
  },
  {
   "cell_type": "code",
   "execution_count": 41,
   "metadata": {},
   "outputs": [
    {
     "name": "stdout",
     "output_type": "stream",
     "text": [
      "Value: Menna\n",
      "Value: 23\n",
      "Value: Cairo\n",
      "Value: vet\n",
      "Value: False\n"
     ]
    }
   ],
   "source": [
    "# Iterating through values\n",
    "for value in person.values():\n",
    "    print(f\"Value: {value}\")"
   ]
  },
  {
   "cell_type": "code",
   "execution_count": 42,
   "metadata": {},
   "outputs": [
    {
     "name": "stdout",
     "output_type": "stream",
     "text": [
      "Key: name, Value: Menna\n",
      "Key: age, Value: 23\n",
      "Key: city, Value: Cairo\n",
      "Key: job, Value: vet\n",
      "Key: married, Value: False\n"
     ]
    }
   ],
   "source": [
    "# Iterating through key-value pairs\n",
    "for key, value in person.items():\n",
    "    print(f\"Key: {key}, Value: {value}\")"
   ]
  },
  {
   "attachments": {},
   "cell_type": "markdown",
   "metadata": {},
   "source": [
    "**Nested Dictionaries**"
   ]
  },
  {
   "cell_type": "code",
   "execution_count": 43,
   "metadata": {},
   "outputs": [
    {
     "data": {
      "text/plain": [
       "' Intern'"
      ]
     },
     "execution_count": 43,
     "metadata": {},
     "output_type": "execute_result"
    }
   ],
   "source": [
    "# Creating a nested dictionary representing a person's details\n",
    "person = {\n",
    "    \"name\": \"Menna\",\n",
    "    \"age\": 25,\n",
    "    \"job\": {\n",
    "        \"title\": \" Intern\",\n",
    "        \"company\": \"Giza systems\",\n",
    "        \"years\": 1\n",
    "    },\n",
    "    \"address\": {\n",
    "        \"street\": \"halab\",\n",
    "        \"city\": \"6th october\",\n",
    "        \"zip_code\": 10001\n",
    "    }\n",
    "}\n",
    "\n",
    "# Accessing nested dictionary values\n",
    "person['job']['title']\n",
    "\n"
   ]
  },
  {
   "cell_type": "code",
   "execution_count": 44,
   "metadata": {},
   "outputs": [
    {
     "data": {
      "text/plain": [
       "{'name': 'Menna',\n",
       " 'age': 25,\n",
       " 'job': {'title': ' Intern',\n",
       "  'company': 'Giza systems',\n",
       "  'years': 1,\n",
       "  'salary': 85000},\n",
       " 'address': {'street': 'halab', 'city': '6th october', 'zip_code': 10001}}"
      ]
     },
     "execution_count": 44,
     "metadata": {},
     "output_type": "execute_result"
    }
   ],
   "source": [
    "person['job']['salary'] = 85000\n",
    "person"
   ]
  },
  {
   "attachments": {},
   "cell_type": "markdown",
   "metadata": {},
   "source": [
    "**Dictionary Comprehension**"
   ]
  },
  {
   "cell_type": "code",
   "execution_count": 45,
   "metadata": {},
   "outputs": [
    {
     "data": {
      "text/plain": [
       "{0: 0, 1: 1, 2: 4, 3: 9, 4: 16, 5: 25, 6: 36, 7: 49, 8: 64, 9: 81, 10: 100}"
      ]
     },
     "execution_count": 45,
     "metadata": {},
     "output_type": "execute_result"
    }
   ],
   "source": [
    "squares = {x:x**2 for x in range (11) }\n",
    "squares"
   ]
  },
  {
   "cell_type": "code",
   "execution_count": 47,
   "metadata": {},
   "outputs": [
    {
     "data": {
      "text/plain": [
       "{0: 0, 2: 4, 4: 16, 6: 36, 8: 64, 10: 100}"
      ]
     },
     "execution_count": 47,
     "metadata": {},
     "output_type": "execute_result"
    }
   ],
   "source": [
    "even_squares = {x:x**2 for x in range (11) if x%2==0 }\n",
    "even_squares"
   ]
  },
  {
   "cell_type": "code",
   "execution_count": 49,
   "metadata": {},
   "outputs": [
    {
     "data": {
      "text/plain": [
       "{'red': 2, 'blue': 3, 'green': 1}"
      ]
     },
     "execution_count": 49,
     "metadata": {},
     "output_type": "execute_result"
    }
   ],
   "source": [
    "# Counting Occurrences of Elements\n",
    "colors = [\"red\", \"blue\", \"red\", \"green\", \"blue\", \"blue\"]\n",
    "cc = {}\n",
    "\n",
    "for c in colors:\n",
    "    cc[c]=cc.get(c,0)+1\n",
    "\n",
    "cc"
   ]
  },
  {
   "cell_type": "code",
   "execution_count": 53,
   "metadata": {},
   "outputs": [
    {
     "name": "stdout",
     "output_type": "stream",
     "text": [
      "Age: 25\n",
      "Updated dictionary: {'name': 'Menna', 'age': 25, 'job': {'title': ' Intern', 'company': 'Giza systems', 'years': 1, 'salary': 85000}, 'address': {'street': 'halab', 'city': '6th october', 'zip_code': 10001}}\n"
     ]
    }
   ],
   "source": [
    "# Using setdefault to add a default value if the key doesn't exist\n",
    "age = person.setdefault(\"age\", 40)\n",
    "print(f\"Age: {age}\")\n",
    "print(f\"Updated dictionary: {person}\")\n",
    "\n"
   ]
  }
 ],
 "metadata": {
  "kernelspec": {
   "display_name": "Python 3",
   "language": "python",
   "name": "python3"
  },
  "language_info": {
   "codemirror_mode": {
    "name": "ipython",
    "version": 3
   },
   "file_extension": ".py",
   "mimetype": "text/x-python",
   "name": "python",
   "nbconvert_exporter": "python",
   "pygments_lexer": "ipython3",
   "version": "3.11.0"
  },
  "orig_nbformat": 4
 },
 "nbformat": 4,
 "nbformat_minor": 2
}
